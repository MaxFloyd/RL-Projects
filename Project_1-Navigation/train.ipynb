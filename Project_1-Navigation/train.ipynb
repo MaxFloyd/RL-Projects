{
 "cells": [
  {
   "cell_type": "code",
   "execution_count": 1,
   "metadata": {
    "scrolled": true
   },
   "outputs": [
    {
     "name": "stdout",
     "output_type": "stream",
     "text": [
      "\u001b[31mipython 6.5.0 has requirement prompt-toolkit<2.0.0,>=1.0.15, but you'll have prompt-toolkit 3.0.5 which is incompatible.\u001b[0m\r\n",
      "\u001b[31mtensorflow 1.7.1 has requirement numpy>=1.13.3, but you'll have numpy 1.12.1 which is incompatible.\u001b[0m\r\n"
     ]
    }
   ],
   "source": [
    "!pip -q install ./python"
   ]
  },
  {
   "cell_type": "code",
   "execution_count": 2,
   "metadata": {
    "scrolled": true
   },
   "outputs": [
    {
     "name": "stderr",
     "output_type": "stream",
     "text": [
      "INFO:unityagents:\n",
      "'Academy' started successfully!\n",
      "Unity Academy name: Academy\n",
      "        Number of Brains: 1\n",
      "        Number of External Brains : 1\n",
      "        Lesson number : 0\n",
      "        Reset Parameters :\n",
      "\t\t\n",
      "Unity brain name: BananaBrain\n",
      "        Number of Visual Observations (per agent): 0\n",
      "        Vector Observation space type: continuous\n",
      "        Vector Observation space size (per agent): 37\n",
      "        Number of stacked Vector Observation: 1\n",
      "        Vector Action space type: discrete\n",
      "        Vector Action space size (per agent): 4\n",
      "        Vector Action descriptions: , , , \n"
     ]
    }
   ],
   "source": [
    "from unityagents import UnityEnvironment\n",
    "import numpy as np\n",
    "\n",
    "# Set up environment\n",
    "env = UnityEnvironment(file_name=\"Banana.app)"
   ]
  },
  {
   "cell_type": "code",
   "execution_count": 3,
   "metadata": {},
   "outputs": [],
   "source": [
    "# get the default brain\n",
    "brain_name = env.brain_names[0]\n",
    "brain = env.brains[brain_name]"
   ]
  },
  {
   "cell_type": "code",
   "execution_count": 4,
   "metadata": {},
   "outputs": [
    {
     "name": "stdout",
     "output_type": "stream",
     "text": [
      "Number of agents: 1\n",
      "Number of actions: 4\n",
      "States look like: [ 1.          0.          0.          0.          0.84408134  0.          0.\n",
      "  1.          0.          0.0748472   0.          1.          0.          0.\n",
      "  0.25755     1.          0.          0.          0.          0.74177343\n",
      "  0.          1.          0.          0.          0.25854847  0.          0.\n",
      "  1.          0.          0.09355672  0.          1.          0.          0.\n",
      "  0.31969345  0.          0.        ]\n",
      "States have length: 37\n"
     ]
    }
   ],
   "source": [
    "# reset the environment\n",
    "env_info = env.reset(train_mode=True)[brain_name]\n",
    "\n",
    "# number of agents in the environment\n",
    "print('Number of agents:', len(env_info.agents))\n",
    "\n",
    "# number of actions\n",
    "action_size = brain.vector_action_space_size\n",
    "print('Number of actions:', action_size)\n",
    "\n",
    "# examine the state space \n",
    "state = env_info.vector_observations[0]\n",
    "print('States look like:', state)\n",
    "state_size = len(state)\n",
    "print('States have length:', state_size)"
   ]
  },
  {
   "cell_type": "markdown",
   "metadata": {},
   "source": [
    "## Train"
   ]
  },
  {
   "cell_type": "code",
   "execution_count": 9,
   "metadata": {},
   "outputs": [],
   "source": [
    "from agent_module import Agent\n",
    "import matplotlib.pyplot as plt\n",
    "import torch\n",
    "\n",
    "def train(num_episodes, env, brain_name, state_size, action_size, eps, eps_decay, buff_size, samp_size, learn_freq, gamma, optim_lr, tau, net_params):\n",
    "    PRINT_EVERY = 10\n",
    "    agent = Agent(state_size, action_size, eps, eps_decay, buff_size, samp_size, learn_freq, gamma, optim_lr, tau, net_params)\n",
    "    scores = []\n",
    "    for i_episode in range(num_episodes):\n",
    "        \n",
    "        score = 0\n",
    "        env_info = env.reset(train_mode=True)[brain_name] # reset environment\n",
    "        state = env_info.vector_observations[0]\n",
    "        step = 0\n",
    "\n",
    "        while True:\n",
    "            step += 1\n",
    "            print('Step: {}'.format(step), end='\\r', flush=True)\n",
    "            action = agent.action(state)  # Take action\n",
    "            # Interact, collect next state, reward\n",
    "            env_info = env.step(action)[brain_name]\n",
    "            state_next = env_info.vector_observations[0]\n",
    "            reward = env_info.rewards[0]\n",
    "            done = env_info.local_done[0]\n",
    "            # Save experience tuple (update value function approximation occasionaly [NN weights])\n",
    "            agent.step(state, action, reward, state_next, done)\n",
    "            state = state_next\n",
    "            # Monitoring\n",
    "            score += reward\n",
    "\n",
    "            if done:\n",
    "                scores.append(score)\n",
    "                if i_episode % PRINT_EVERY==0:\n",
    "                    print('Episode {} Average score: {}'.format(i_episode, np.mean(scores[-PRINT_EVERY:])))\n",
    "                break\n",
    "        \n",
    "        mean_score = np.mean(scores[-100:])\n",
    "        if mean_score > 13.0:\n",
    "            print('Environment solved in {} Episodes. Average score over last 100 episodes is {:.2f}.'.format(i_episode, mean_score))\n",
    "            torch.save(agent.current_net.state_dict(), 'state_dict')\n",
    "            plt.plot(range(i_episode+1), scores)\n",
    "            break\n",
    "            \n",
    "            \n",
    "    return scores, agent\n"
   ]
  },
  {
   "cell_type": "code",
   "execution_count": 10,
   "metadata": {
    "scrolled": true
   },
   "outputs": [
    {
     "name": "stdout",
     "output_type": "stream",
     "text": [
      "Episode 0 Average score: -2.0\n",
      "Episode 10 Average score: 0.3\n",
      "Episode 20 Average score: 0.5\n",
      "Episode 30 Average score: 0.3\n",
      "Episode 40 Average score: 2.1\n",
      "Episode 50 Average score: 2.7\n",
      "Episode 60 Average score: 5.1\n",
      "Episode 70 Average score: 3.7\n",
      "Episode 80 Average score: 3.9\n",
      "Episode 90 Average score: 5.6\n",
      "Episode 100 Average score: 6.7\n",
      "Episode 110 Average score: 5.6\n",
      "Episode 120 Average score: 5.2\n",
      "Episode 130 Average score: 5.0\n",
      "Episode 140 Average score: 2.7\n",
      "Episode 150 Average score: 8.6\n",
      "Episode 160 Average score: 4.9\n",
      "Episode 170 Average score: 4.1\n",
      "Episode 180 Average score: 9.9\n",
      "Episode 190 Average score: 8.9\n",
      "Episode 200 Average score: 5.5\n",
      "Episode 210 Average score: 10.7\n",
      "Episode 220 Average score: 11.2\n",
      "Episode 230 Average score: 11.8\n",
      "Episode 240 Average score: 11.0\n",
      "Episode 250 Average score: 13.1\n",
      "Episode 260 Average score: 11.6\n",
      "Episode 270 Average score: 12.7\n",
      "Episode 280 Average score: 12.8\n",
      "Episode 290 Average score: 15.8\n",
      "Episode 300 Average score: 14.3\n",
      "Episode 310 Average score: 13.7\n",
      "Episode 320 Average score: 11.4\n",
      "Episode 330 Average score: 11.6\n",
      "Environment solved in 335 Episodes. Average score over last 100 episodes is 13.12.\n"
     ]
    },
    {
     "data": {
      "image/png": "[encoded data removed]",
      "text/plain": [
       "<matplotlib.figure.Figure at 0x7f77512f62b0>"
      ]
     },
     "metadata": {
      "needs_background": "light"
     },
     "output_type": "display_data"
    }
   ],
   "source": [
    "# Attempt 1 \n",
    "num_episodes = 2000\n",
    "scores, agent = train(num_episodes, env, brain_name, state_size, action_size, \n",
    "      eps=0.1, \n",
    "      eps_decay=0.999, \n",
    "      buff_size=int(1e5), \n",
    "      samp_size=64, \n",
    "      learn_freq=4, \n",
    "      gamma=0.99, \n",
    "      optim_lr=5e-4, \n",
    "      tau=1e-3, \n",
    "      net_params=[128,256,128])"
   ]
  },
  {
   "cell_type": "code",
   "execution_count": null,
   "metadata": {},
   "outputs": [],
   "source": []
  }
 ],
 "metadata": {
  "kernelspec": {
   "display_name": "Python 3",
   "language": "python",
   "name": "python3"
  },
  "language_info": {
   "codemirror_mode": {
    "name": "ipython",
    "version": 3
   },
   "file_extension": ".py",
   "mimetype": "text/x-python",
   "name": "python",
   "nbconvert_exporter": "python",
   "pygments_lexer": "ipython3",
   "version": "3.6.3"
  }
 },
 "nbformat": 4,
 "nbformat_minor": 2
}